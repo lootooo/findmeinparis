{
 "cells": [
  {
   "cell_type": "code",
   "execution_count": 44,
   "metadata": {},
   "outputs": [
    {
     "data": {
      "text/plain": [
       "6"
      ]
     },
     "execution_count": 44,
     "metadata": {},
     "output_type": "execute_result"
    }
   ],
   "source": [
    "anonymous = lambda x,y:x*y\n",
    "\n",
    "j = anonymous(2,3)\n"
   ]
  },
  {
   "cell_type": "markdown",
   "metadata": {},
   "source": [
    "### Check whether variable have same address or not"
   ]
  },
  {
   "cell_type": "code",
   "execution_count": 22,
   "metadata": {},
   "outputs": [
    {
     "name": "stdout",
     "output_type": "stream",
     "text": [
      "0x7fffb5acb070\n",
      "0x7fffb5acb070\n"
     ]
    },
    {
     "data": {
      "text/plain": [
       "True"
      ]
     },
     "execution_count": 22,
     "metadata": {},
     "output_type": "execute_result"
    }
   ],
   "source": [
    "\n",
    "a=120\n",
    "b=a\n",
    "print(hex(id(b)))\n",
    "print(hex(id(a)))\n",
    "\n",
    "b is a\n"
   ]
  },
  {
   "cell_type": "markdown",
   "metadata": {},
   "source": [
    "### Prime number program"
   ]
  },
  {
   "cell_type": "code",
   "execution_count": 25,
   "metadata": {},
   "outputs": [
    {
     "name": "stdout",
     "output_type": "stream",
     "text": [
      "Enter a number : 29\n",
      "Prime\n"
     ]
    }
   ],
   "source": [
    "num=int(input(\"Enter a number : \"))\n",
    "flag=0\n",
    "\n",
    "for i in range(2,num//2):\n",
    "    if(num%i==0):\n",
    "        print(\"Not prime\")\n",
    "        flag=1\n",
    "        break;\n",
    "if(flag==0):\n",
    "    print(\"Prime\")"
   ]
  },
  {
   "cell_type": "markdown",
   "metadata": {},
   "source": [
    "### Sorted list without using inbnuilt function"
   ]
  },
  {
   "cell_type": "code",
   "execution_count": 24,
   "metadata": {},
   "outputs": [
    {
     "name": "stdout",
     "output_type": "stream",
     "text": [
      "[-9, 0, 1, 2, 3]\n"
     ]
    }
   ],
   "source": [
    "my_list = [2,0,1,3,-9]\n",
    "\n",
    "for i in range(0,len(my_list)):\n",
    "    for j in range(i+1,len(my_list)):\n",
    "        if(my_list[i]>=my_list[j]):\n",
    "            temp=my_list[i]\n",
    "            my_list[i]=my_list[j]\n",
    "            my_list[j]=temp\n",
    "\n",
    "print(my_list)"
   ]
  },
  {
   "cell_type": "markdown",
   "metadata": {},
   "source": [
    "### Square in given range using lambda function."
   ]
  },
  {
   "cell_type": "code",
   "execution_count": 21,
   "metadata": {},
   "outputs": [
    {
     "name": "stdout",
     "output_type": "stream",
     "text": [
      "Min Range : 2\n",
      "Max Range :5\n",
      "4\n",
      "9\n",
      "16\n",
      "25\n"
     ]
    }
   ],
   "source": [
    "a = int(input(\"Min Range : \"))\n",
    "b = int(input(\"Max Range :\"))\n",
    "\n",
    "my_list=[lambda i= i:i*i for i in range(a,b+1)]\n",
    "\n",
    "for i in my_list:\n",
    "    print(i())\n",
    "   \n",
    "    \n",
    "    \n",
    "    "
   ]
  },
  {
   "cell_type": "code",
   "execution_count": 30,
   "metadata": {},
   "outputs": [
    {
     "name": "stdout",
     "output_type": "stream",
     "text": [
      "{'h': 2, 'e': 2, 'y': 1, 'l': 2, 'o': 1}\n"
     ]
    }
   ],
   "source": [
    "my_dict ={}\n",
    "s = \"heyhello\"\n",
    "\n",
    "for i in s:\n",
    "    if i in my_dict:\n",
    "        my_dict[i]+=1\n",
    "    else:\n",
    "        my_dict[i]=1\n",
    "print(my_dict)\n",
    "        "
   ]
  },
  {
   "cell_type": "code",
   "execution_count": null,
   "metadata": {},
   "outputs": [],
   "source": []
  }
 ],
 "metadata": {
  "kernelspec": {
   "display_name": "Python 3",
   "language": "python",
   "name": "python3"
  },
  "language_info": {
   "codemirror_mode": {
    "name": "ipython",
    "version": 3
   },
   "file_extension": ".py",
   "mimetype": "text/x-python",
   "name": "python",
   "nbconvert_exporter": "python",
   "pygments_lexer": "ipython3",
   "version": "3.7.4"
  }
 },
 "nbformat": 4,
 "nbformat_minor": 2
}
