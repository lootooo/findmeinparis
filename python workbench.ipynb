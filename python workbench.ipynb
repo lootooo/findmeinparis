{
 "cells": [
  {
   "cell_type": "markdown",
   "metadata": {},
   "source": [
    "## Questions\n",
    "\n",
    "\n",
    "1.           if the last\n",
    "2. From a given string extract three middle values.The string should be of odd length and greater than 5.\n",
    "\n",
    "*say welcome   :lco*\n",
    "\n",
    "3. From a given list extract all the values placed at even indices into a second list.\n",
    "4. In a given list find all the elements divisible by 5. Store them in a dictionary with their index as key.\n"
   ]
  },
  {
   "cell_type": "markdown",
   "metadata": {},
   "source": [
    "# 1. Compare first last element if both are same true else false"
   ]
  },
  {
   "cell_type": "code",
   "execution_count": 14,
   "metadata": {},
   "outputs": [
    {
     "name": "stdout",
     "output_type": "stream",
     "text": [
      "oen one two hola ahi\n",
      "False\n"
     ]
    }
   ],
   "source": [
    "values=input().split()\n",
    "if(values[0]==values[-1]):\n",
    "    print(True)\n",
    "else:\n",
    "    print(False)"
   ]
  },
  {
   "cell_type": "markdown",
   "metadata": {},
   "source": [
    "## 2. From a given string extract three middle values.The string should be of odd length and greater than 5."
   ]
  },
  {
   "cell_type": "code",
   "execution_count": 10,
   "metadata": {},
   "outputs": [
    {
     "name": "stdout",
     "output_type": "stream",
     "text": [
      "pytho\n",
      "yth\n"
     ]
    }
   ],
   "source": [
    "value=input()\n",
    "mid=len(value)//2\n",
    "print(value[mid-1]+value[mid]+value[mid+1])"
   ]
  },
  {
   "cell_type": "markdown",
   "metadata": {},
   "source": [
    "## 3. From a given list extract all the values placed at even indices into a second list."
   ]
  },
  {
   "cell_type": "code",
   "execution_count": 7,
   "metadata": {},
   "outputs": [
    {
     "name": "stdout",
     "output_type": "stream",
     "text": [
      "23 45 56\n"
     ]
    },
    {
     "data": {
      "text/plain": [
       "[23, 56]"
      ]
     },
     "execution_count": 7,
     "metadata": {},
     "output_type": "execute_result"
    }
   ],
   "source": [
    "values=list(map(int,input().split()))\n",
    "answer=[]\n",
    "flag=0\n",
    "for i in values:\n",
    "    if(flag==0):\n",
    "        answer.append(i)\n",
    "        flag=1\n",
    "    else:\n",
    "        flag=0\n",
    "answer"
   ]
  },
  {
   "cell_type": "markdown",
   "metadata": {},
   "source": [
    "### 4. In a given list find all the elements divisible by 5. Store them in a dictionary with their index as key."
   ]
  },
  {
   "cell_type": "code",
   "execution_count": 2,
   "metadata": {},
   "outputs": [
    {
     "name": "stdout",
     "output_type": "stream",
     "text": [
      "12 234 54 15 \n"
     ]
    },
    {
     "data": {
      "text/plain": [
       "{3: 15}"
      ]
     },
     "execution_count": 2,
     "metadata": {},
     "output_type": "execute_result"
    }
   ],
   "source": [
    "values=list(map(int,input().split()))\n",
    "pairs={}\n",
    "for i in range(len(values)):\n",
    "    if(values[i]%5==0):\n",
    "        pairs[i]=values[i]\n",
    "        \n",
    "pairs\n",
    "        "
   ]
  },
  {
   "cell_type": "markdown",
   "metadata": {},
   "source": [
    "# Set operations.\n",
    "\n",
    "1. Use update method . Input string as well as integers ."
   ]
  },
  {
   "cell_type": "code",
   "execution_count": 15,
   "metadata": {},
   "outputs": [
    {
     "data": {
      "text/plain": [
       "{'apple', 'banana', 'brinjal', 'mango', 'potato'}"
      ]
     },
     "execution_count": 15,
     "metadata": {},
     "output_type": "execute_result"
    }
   ],
   "source": [
    "fruits={'banana','apple','mango'}\n",
    "vegetables={'potato','brinjal'}\n",
    "fruits.union(vegetables)"
   ]
  },
  {
   "cell_type": "code",
   "execution_count": 18,
   "metadata": {},
   "outputs": [
    {
     "data": {
      "text/plain": [
       "{'dani alves', 'neymar', 'thiago silva'}"
      ]
     },
     "execution_count": 18,
     "metadata": {},
     "output_type": "execute_result"
    }
   ],
   "source": [
    "brazil={'thiago silva','marquinhos','dani alves','countinho','neymar','vinicious','marcelo'}\n",
    "psg={'neymar','thiago silva','dani alves'}\n",
    "brazil&psg"
   ]
  },
  {
   "cell_type": "code",
   "execution_count": 19,
   "metadata": {},
   "outputs": [
    {
     "data": {
      "text/plain": [
       "{'countinho', 'marcelo', 'marquinhos', 'vinicious'}"
      ]
     },
     "execution_count": 19,
     "metadata": {},
     "output_type": "execute_result"
    }
   ],
   "source": [
    "brazil^psg"
   ]
  },
  {
   "cell_type": "code",
   "execution_count": 20,
   "metadata": {},
   "outputs": [
    {
     "data": {
      "text/plain": [
       "{'countinho',\n",
       " 'dani alves',\n",
       " 'marcelo',\n",
       " 'marquinhos',\n",
       " 'neymar',\n",
       " 'thiago silva',\n",
       " 'vinicious'}"
      ]
     },
     "execution_count": 20,
     "metadata": {},
     "output_type": "execute_result"
    }
   ],
   "source": [
    "brazil|psg"
   ]
  },
  {
   "cell_type": "code",
   "execution_count": 23,
   "metadata": {},
   "outputs": [
    {
     "data": {
      "text/plain": [
       "{1, 3, 4, 5, 6, 8, 10, 11}"
      ]
     },
     "execution_count": 23,
     "metadata": {},
     "output_type": "execute_result"
    }
   ],
   "source": [
    "even={6,4,8,10}\n",
    "odd={1,3,5,11}\n",
    "even^odd"
   ]
  },
  {
   "cell_type": "code",
   "execution_count": 24,
   "metadata": {},
   "outputs": [
    {
     "data": {
      "text/plain": [
       "{1, 3, 4, 5, 6, 8, 10, 11}"
      ]
     },
     "execution_count": 24,
     "metadata": {},
     "output_type": "execute_result"
    }
   ],
   "source": [
    "odd^even"
   ]
  },
  {
   "cell_type": "code",
   "execution_count": 25,
   "metadata": {},
   "outputs": [
    {
     "data": {
      "text/plain": [
       "{'countinho', 'marcelo', 'marquinhos', 'vinicious'}"
      ]
     },
     "execution_count": 25,
     "metadata": {},
     "output_type": "execute_result"
    }
   ],
   "source": [
    "psg^brazil"
   ]
  },
  {
   "cell_type": "code",
   "execution_count": 26,
   "metadata": {},
   "outputs": [
    {
     "data": {
      "text/plain": [
       "{'countinho', 'marcelo', 'marquinhos', 'vinicious'}"
      ]
     },
     "execution_count": 26,
     "metadata": {},
     "output_type": "execute_result"
    }
   ],
   "source": [
    "brazil^psg"
   ]
  },
  {
   "cell_type": "code",
   "execution_count": null,
   "metadata": {},
   "outputs": [],
   "source": []
  }
 ],
 "metadata": {
  "kernelspec": {
   "display_name": "Python 3",
   "language": "python",
   "name": "python3"
  },
  "language_info": {
   "codemirror_mode": {
    "name": "ipython",
    "version": 3
   },
   "file_extension": ".py",
   "mimetype": "text/x-python",
   "name": "python",
   "nbconvert_exporter": "python",
   "pygments_lexer": "ipython3",
   "version": "3.7.2"
  }
 },
 "nbformat": 4,
 "nbformat_minor": 4
}
