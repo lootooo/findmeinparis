{
 "cells": [
  {
   "cell_type": "markdown",
   "metadata": {},
   "source": [
    "### Linear regression."
   ]
  },
  {
   "cell_type": "code",
   "execution_count": null,
   "metadata": {},
   "outputs": [],
   "source": [
    "# data points\n",
    "\n",
    "\n",
    "sum_of_x=0\n",
    "sum_of_y=0\n",
    "square_of_sum_of_x=0\n",
    "square_of_sum_of_y=0\n",
    "sum_of_squares_of_x=0\n",
    "sum_of_squares_of_y=0\n",
    "sum_of_xy=0\n",
    "y=0\n",
    "\n",
    "n=int(input())\n",
    "x=list(map(int,input().split()))\n",
    "y=list(map(int,input().split()))\n",
    "\n",
    "def equation(n,x,y):\n",
    "    sum_of_x=sum(x)\n",
    "    sum_of_y=sum(y)\n",
    "    square_of_sum_of_x=pow(sum_of_x,2)\n",
    "    square_of_sum_of_y=pow(sum_of_y,2)\n",
    "    sum_of_squares_of_x=sum([i*i for i in x])\n",
    "    sum_of_squares_of_y=sum([i*i for i in y])\n",
    "    sum_of_xy=answer=sum([x[i]*y[i] for i in range(n)])\n",
    "\n",
    "    point_a=(sum_of_y*sum_of_squares_of_x-sum_of_x*sum_of_xy)/(n*sum_of_squares_of_x-square_of_sum_of_x)\n",
    "    point_b=(n*sum_of_xy-sum_of_x*sum_of_y)/((n*sum_of_squares_of_x)-square_of_sum_of_x)\n",
    "    return point_a+point_b\n",
    "    \n",
    "    \n",
    "print(equation(n,x,y))\n",
    "\n"
   ]
  },
  {
   "cell_type": "code",
   "execution_count": 3,
   "metadata": {},
   "outputs": [
    {
     "name": "stdout",
     "output_type": "stream",
     "text": [
      "5\n",
      "43 44 45 46 47\n",
      "41 45 49 47 44\n",
      "6\n"
     ]
    }
   ],
   "source": [
    "# data points\n",
    "\n",
    "\n",
    "sum_of_x=0\n",
    "sum_of_y=0\n",
    "square_of_sum_of_x=0\n",
    "square_of_sum_of_y=0\n",
    "sum_of_squares_of_x=0\n",
    "sum_of_squares_of_y=0\n",
    "sum_of_xy=0\n",
    "y=0\n",
    "\n",
    "n=int(input())\n",
    "x=list(map(int,input().split()))\n",
    "y=list(map(int,input().split()))\n",
    "\n",
    "\n",
    "def mse(x,y,point_a,point_b):\n",
    "    y_dashes=[point_a+point_b*i for i in x]\n",
    "    y_minus_y_dashes=[y[j]-y_dashes[j] for j in range(len(y_dashes))]\n",
    "    y_minus_y_dashes_squares=[i*i for i in y_minus_y_dashes]\n",
    "    average_of_y_dashes_sum=sum(y_minus_y_dashes_squares)/len(x)\n",
    "    print(average_of_y_dashes_sum)\n",
    "    \n",
    "    \n",
    "\n",
    "def equation(n,x,y):\n",
    "    sum_of_x=sum(x)\n",
    "    sum_of_y=sum(y)\n",
    "    square_of_sum_of_x=pow(sum_of_x,2)\n",
    "    square_of_sum_of_y=pow(sum_of_y,2)\n",
    "    sum_of_squares_of_x=sum([i*i for i in x])\n",
    "    sum_of_squares_of_y=sum([i*i for i in y])\n",
    "    sum_of_xy=answer=sum([x[i]*y[i] for i in range(n)])\n",
    "\n",
    "    point_a=(sum_of_y*sum_of_squares_of_x-sum_of_x*sum_of_xy)/(n*sum_of_squares_of_x-square_of_sum_of_x)\n",
    "    point_b=(n*sum_of_xy-sum_of_x*sum_of_y)/((n*sum_of_squares_of_x)-square_of_sum_of_x)\n",
    "    mse(x,y,point_a,point_b)\n",
    "    \n",
    "    \n",
    "equation(n,x,y)\n",
    "\n"
   ]
  },
  {
   "cell_type": "code",
   "execution_count": null,
   "metadata": {},
   "outputs": [],
   "source": [
    "43 44 45 46 47 41 45 49 47 44"
   ]
  },
  {
   "cell_type": "markdown",
   "metadata": {},
   "source": [
    "### 1. Write a python script to find occurence of first non-repeating character in a string\n",
    "### 2. Swap position of two characters in a string.       .,  replace ,."
   ]
  },
  {
   "cell_type": "code",
   "execution_count": 12,
   "metadata": {},
   "outputs": [
    {
     "name": "stdout",
     "output_type": "stream",
     "text": [
      "jskdf\n",
      "{97: 0, 98: 0, 99: 0, 100: 0, 101: 0, 102: 0, 103: 0, 104: 0, 105: 0, 106: 0, 107: 0, 108: 0, 109: 0, 110: 0, 111: 0, 112: 0, 113: 0, 114: 0, 115: 0, 116: 0, 117: 0, 118: 0, 119: 0, 120: 0, 121: 0, 122: 0}\n"
     ]
    },
    {
     "ename": "KeyError",
     "evalue": "'j'",
     "output_type": "error",
     "traceback": [
      "\u001b[1;31m---------------------------------------------------------------------------\u001b[0m",
      "\u001b[1;31mKeyError\u001b[0m                                  Traceback (most recent call last)",
      "\u001b[1;32m<ipython-input-12-abe88cca8d5c>\u001b[0m in \u001b[0;36m<module>\u001b[1;34m\u001b[0m\n\u001b[0;32m      7\u001b[0m \u001b[0mprint\u001b[0m\u001b[1;33m(\u001b[0m\u001b[0mpairs\u001b[0m\u001b[1;33m)\u001b[0m\u001b[1;33m\u001b[0m\u001b[1;33m\u001b[0m\u001b[0m\n\u001b[0;32m      8\u001b[0m \u001b[1;32mfor\u001b[0m \u001b[0mi\u001b[0m \u001b[1;32min\u001b[0m \u001b[0mstring\u001b[0m\u001b[1;33m:\u001b[0m\u001b[1;33m\u001b[0m\u001b[1;33m\u001b[0m\u001b[0m\n\u001b[1;32m----> 9\u001b[1;33m     \u001b[1;32mif\u001b[0m\u001b[1;33m(\u001b[0m\u001b[0mi\u001b[0m\u001b[1;33m==\u001b[0m\u001b[0mpairs\u001b[0m\u001b[1;33m[\u001b[0m\u001b[0mi\u001b[0m\u001b[1;33m]\u001b[0m\u001b[1;33m)\u001b[0m\u001b[1;33m:\u001b[0m\u001b[1;33m\u001b[0m\u001b[1;33m\u001b[0m\u001b[0m\n\u001b[0m\u001b[0;32m     10\u001b[0m         \u001b[0mprint\u001b[0m\u001b[1;33m(\u001b[0m\u001b[0mi\u001b[0m\u001b[1;33m)\u001b[0m\u001b[1;33m\u001b[0m\u001b[1;33m\u001b[0m\u001b[0m\n\u001b[0;32m     11\u001b[0m \u001b[1;32mfor\u001b[0m \u001b[0mkey\u001b[0m \u001b[1;32min\u001b[0m \u001b[0mpairs\u001b[0m\u001b[1;33m.\u001b[0m\u001b[0mitems\u001b[0m\u001b[1;33m(\u001b[0m\u001b[1;33m)\u001b[0m\u001b[1;33m:\u001b[0m\u001b[1;33m\u001b[0m\u001b[1;33m\u001b[0m\u001b[0m\n",
      "\u001b[1;31mKeyError\u001b[0m: 'j'"
     ]
    }
   ],
   "source": [
    "string=input()\n",
    "pairs={}\n",
    "\n",
    "for i in range(97,123):\n",
    "    pairs[i]=0\n",
    "    \n",
    "\n",
    "\n",
    "for key in pairs.items():\n",
    "    if(pairs[key]==2):\n",
    "        print(key)\n",
    "        break"
   ]
  },
  {
   "cell_type": "code",
   "execution_count": 4,
   "metadata": {},
   "outputs": [
    {
     "data": {
      "text/plain": [
       "['__call__',\n",
       " '__class__',\n",
       " '__delattr__',\n",
       " '__dir__',\n",
       " '__doc__',\n",
       " '__eq__',\n",
       " '__format__',\n",
       " '__ge__',\n",
       " '__getattribute__',\n",
       " '__gt__',\n",
       " '__hash__',\n",
       " '__init__',\n",
       " '__init_subclass__',\n",
       " '__le__',\n",
       " '__lt__',\n",
       " '__module__',\n",
       " '__name__',\n",
       " '__ne__',\n",
       " '__new__',\n",
       " '__qualname__',\n",
       " '__reduce__',\n",
       " '__reduce_ex__',\n",
       " '__repr__',\n",
       " '__self__',\n",
       " '__setattr__',\n",
       " '__sizeof__',\n",
       " '__str__',\n",
       " '__subclasshook__',\n",
       " '__text_signature__']"
      ]
     },
     "execution_count": 4,
     "metadata": {},
     "output_type": "execute_result"
    }
   ],
   "source": [
    "dir(hash)"
   ]
  },
  {
   "cell_type": "code",
   "execution_count": 10,
   "metadata": {},
   "outputs": [
    {
     "name": "stdout",
     "output_type": "stream",
     "text": [
      "[4257, 1365, 1975, 3150, 4959, 4779]\n",
      "00000\n",
      "20485\n"
     ]
    }
   ],
   "source": [
    "# answer=[(i*j for i in x) for j in y if()]\n",
    "# print(answer)\n",
    "answer=sum([x[i]*y[i] for i in range(n)])\n",
    "print(answer)\n",
    "print('00000')\n",
    "print(sum(answer))"
   ]
  },
  {
   "cell_type": "code",
   "execution_count": null,
   "metadata": {},
   "outputs": [],
   "source": []
  },
  {
   "cell_type": "code",
   "execution_count": 4,
   "metadata": {},
   "outputs": [
    {
     "name": "stdout",
     "output_type": "stream",
     "text": [
      "30\n"
     ]
    }
   ],
   "source": [
    "x=[1,2,3,4]\n",
    "y=sum([(i*i) for i in x])\n",
    "print(y)\n"
   ]
  },
  {
   "cell_type": "code",
   "execution_count": 1,
   "metadata": {},
   "outputs": [
    {
     "name": "stdout",
     "output_type": "stream",
     "text": [
      "23 45 56\n"
     ]
    }
   ],
   "source": [
    "y=list(map(int,input().split()))"
   ]
  },
  {
   "cell_type": "code",
   "execution_count": null,
   "metadata": {},
   "outputs": [],
   "source": []
  }
 ],
 "metadata": {
  "kernelspec": {
   "display_name": "Python 3",
   "language": "python",
   "name": "python3"
  },
  "language_info": {
   "codemirror_mode": {
    "name": "ipython",
    "version": 3
   },
   "file_extension": ".py",
   "mimetype": "text/x-python",
   "name": "python",
   "nbconvert_exporter": "python",
   "pygments_lexer": "ipython3",
   "version": "3.7.2"
  }
 },
 "nbformat": 4,
 "nbformat_minor": 4
}
